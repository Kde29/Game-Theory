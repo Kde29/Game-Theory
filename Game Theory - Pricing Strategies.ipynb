{
 "cells": [
  {
   "cell_type": "markdown",
   "id": "34733a7b",
   "metadata": {},
   "source": [
    "First, as usual, import relevant packages."
   ]
  },
  {
   "cell_type": "code",
   "execution_count": 72,
   "id": "b4298168",
   "metadata": {},
   "outputs": [],
   "source": [
    "import numpy as np\n",
    "import pandas as pd"
   ]
  },
  {
   "cell_type": "markdown",
   "id": "cdd4cc63",
   "metadata": {},
   "source": [
    "I start by defining the parameters of the game i.e., players and strategies. This is a simple market with two firms. "
   ]
  },
  {
   "cell_type": "code",
   "execution_count": 73,
   "id": "0e87c66d",
   "metadata": {},
   "outputs": [],
   "source": [
    "players = ['A', 'B']\n",
    "n_strategies = 5  # Number of strategies (prices) for each player\n",
    "costs = np.array([[10, 11, 12, 13, 14], [11, 12, 13, 14, 15]])  # Costs for each strategy\n",
    "demand = np.array([[100, 95, 90, 85, 80], [80, 85, 90, 95, 100]])  # Demand for each strategy\n",
    "market_size = 300  # Total market size\n",
    "capacity_A = 120  # Production capacity for player A\n",
    "capacity_B = 150  # Production capacity for player B\n"
   ]
  },
  {
   "cell_type": "markdown",
   "id": "80e0291f",
   "metadata": {},
   "source": [
    "Next, I determine payoffs for different pricing strategies in a competitive market. By combining demand, production capacities, and production costs, I assess the viability of each strategy. If the total demand exceeds a player's production capacity, the payoff is set to negative infinity, indicating an unsustainable scenario. Otherwise, the payoff is calculated based on the remaining market size after subtracting production costs. In this case, I am simulating the intricate dance of pricing strategies while considering the production capacities of players A and B. \n",
    "The code below evaluates scenarios where total demand may stretch beyond these capacities, marking them as infeasible with a negative infinity payoff. On the flip side, when demand aligns with or stays below production capacities, the code computes the payoff as a product of demand and the remaining market size after subtracting production costs. "
   ]
  },
  {
   "cell_type": "code",
   "execution_count": 74,
   "id": "f4ee5707",
   "metadata": {},
   "outputs": [],
   "source": [
    "payoffs = np.zeros((n_strategies, n_strategies))\n",
    "for i in range(n_strategies):\n",
    "    for j in range(n_strategies):\n",
    "        demand_sum = demand[0, i] + demand[1, j]\n",
    "        if demand_sum > capacity_A:\n",
    "            payoffs[i, j] = -1e6\n",
    "        elif demand_sum > capacity_B:\n",
    "            payoffs[i, j] = -1e6\n",
    "        else:\n",
    "            payoffs[i, j] = (demand_sum) * (market_size - costs[0, i] - costs[1, j])"
   ]
  },
  {
   "cell_type": "markdown",
   "id": "27dc5945",
   "metadata": {},
   "source": [
    "Now that I have pay-offs, I construct a game-theoretic model to represent the strategic interactions between players A and B. Each cell in the matrix contains the payoff for the respective combination of strategies, reflecting the outcomes of their competitive pricing decisions. "
   ]
  },
  {
   "cell_type": "code",
   "execution_count": 75,
   "id": "7433527a",
   "metadata": {},
   "outputs": [],
   "source": [
    "# game-theoretic model\n",
    "game = pd.DataFrame(payoffs, columns=[f'Price {i}' for i in range(1, n_strategies + 1)], index=[f'Price {i}' for i in range(1, n_strategies + 1)])"
   ]
  },
  {
   "cell_type": "markdown",
   "id": "14c1620d",
   "metadata": {},
   "source": [
    "I also take into account the aspect of randomness to players' strategies through mixed strategies. Using Dirichlet distributions, random weights are assigned to different pricing strategies for both players A and B. This fosters a dynamic environment where each player employs a mix of strategies with varying probabilities. The subsequent simulation computes the expected payoff by combining these mixed strategies, showcasing the versatility and adaptability introduced by randomness in strategic decision-making."
   ]
  },
  {
   "cell_type": "code",
   "execution_count": 76,
   "id": "45b9163d",
   "metadata": {},
   "outputs": [],
   "source": [
    "\n",
    "# Randomized strategy selection using mixed strategies\n",
    "weights_A = np.random.dirichlet(np.ones(n_strategies))\n",
    "weights_B = np.random.dirichlet(np.ones(n_strategies))\n",
    "\n",
    "# Expected payoff for A in a game with mixed strategies\n",
    "payoffs_mixed_A = np.dot(weights_A, np.dot(game, weights_B))\n",
    "\n",
    "# Expected payoff for B in a game with mixed strategies\n",
    "payoffs_mixed_B = np.dot(weights_B, np.dot(game.T, weights_A))"
   ]
  },
  {
   "cell_type": "markdown",
   "id": "d2b8acc3",
   "metadata": {},
   "source": [
    "Finally, we print the results!"
   ]
  },
  {
   "cell_type": "code",
   "execution_count": 77,
   "id": "cbf37ef3",
   "metadata": {},
   "outputs": [
    {
     "name": "stdout",
     "output_type": "stream",
     "text": [
      "Mixed Strategy Simulation:\n",
      "Player A Mixed Strategy: [0.44787344 0.17664431 0.05945528 0.07734575 0.23868121]\n",
      "Player B Mixed Strategy: [0.09901808 0.41188128 0.00711603 0.00592355 0.47606106]\n",
      "Expected payoff - Player A Mixed Strategy: -1000000.0\n",
      "Expected payoff - Player B Mixed Strategy: -1000000.0\n"
     ]
    }
   ],
   "source": [
    "print(\"Mixed Strategy Simulation:\")\n",
    "print(f\"Player A Mixed Strategy: {weights_A}\")\n",
    "print(f\"Player B Mixed Strategy: {weights_B}\")\n",
    "print(f\"Expected payoff - Player A Mixed Strategy: {round(payoffs_mixed_A, 2)}\")\n",
    "print(f\"Expected payoff - Player B Mixed Strategy: {round(payoffs_mixed_B, 2)}\")"
   ]
  }
 ],
 "metadata": {
  "kernelspec": {
   "display_name": "Python 3 (ipykernel)",
   "language": "python",
   "name": "python3"
  },
  "language_info": {
   "codemirror_mode": {
    "name": "ipython",
    "version": 3
   },
   "file_extension": ".py",
   "mimetype": "text/x-python",
   "name": "python",
   "nbconvert_exporter": "python",
   "pygments_lexer": "ipython3",
   "version": "3.11.5"
  }
 },
 "nbformat": 4,
 "nbformat_minor": 5
}
